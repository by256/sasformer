{
 "cells": [
  {
   "cell_type": "code",
   "execution_count": 2,
   "id": "b328b7b6",
   "metadata": {},
   "outputs": [],
   "source": [
    "import pickle\n",
    "\n",
    "import matplotlib.pyplot as plt\n",
    "import numpy as np\n",
    "import torch\n",
    "from sasmodels.data import empty_data1D, Data1D\n",
    "from sasmodels.core import load_model\n",
    "from sasmodels.direct_model import DirectModel\n",
    "\n",
    "from sasformer.data import IqTransformer, SASDataModule\n",
    "from sasformer.model import SASPerceiverIOModel"
   ]
  },
  {
   "cell_type": "code",
   "execution_count": 3,
   "id": "b9bb6e0a",
   "metadata": {},
   "outputs": [],
   "source": [
    "def generate_Iq(q: np.ndarray, model_name: str, params: dict, resolution: float = 0.05):\n",
    "    data = empty_data1D(q, resolution=resolution)\n",
    "    model = load_model(model_name)\n",
    "    model_fn = DirectModel(data, model)\n",
    "    return model_fn(**params)"
   ]
  },
  {
   "cell_type": "code",
   "execution_count": 4,
   "id": "cd1809f5",
   "metadata": {},
   "outputs": [],
   "source": [
    "data_dir = \"../data/sas-55m-20k/\"\n",
    "checkpoint_path = \"../checkpoints/final.ckpt\""
   ]
  },
  {
   "cell_type": "markdown",
   "id": "096470f7",
   "metadata": {},
   "source": [
    "#### Generate $I(q)$ using `sasmodels`"
   ]
  },
  {
   "cell_type": "code",
   "execution_count": 5,
   "id": "de1a6651",
   "metadata": {},
   "outputs": [
    {
     "data": {
      "image/png": "[encoded data removed]",
      "text/plain": [
       "<Figure size 640x480 with 1 Axes>"
      ]
     },
     "metadata": {},
     "output_type": "display_data"
    }
   ],
   "source": [
    "# load q values\n",
    "q = np.load(f\"{data_dir}q_values.npy\")\n",
    "\n",
    "# specify model and generate I(q)\n",
    "model_name = \"cylinder\"\n",
    "model_params = {\"length\": 500, \"radius\": 40}\n",
    "Iq = generate_Iq(q, model_name, model_params)[None, :]\n",
    "\n",
    "plt.loglog(q, Iq[0])\n",
    "plt.show()"
   ]
  },
  {
   "cell_type": "markdown",
   "id": "8166e816",
   "metadata": {},
   "source": [
    "#### Load and initialize model"
   ]
  },
  {
   "cell_type": "code",
   "execution_count": 6,
   "id": "fd905c7e",
   "metadata": {},
   "outputs": [
    {
     "name": "stdout",
     "output_type": "stream",
     "text": [
      "\"batch_size\":                     1843\n",
      "\"clf_weight\":                     1.0\n",
      "\"enc_cross_attention_dropout\":    0.05\n",
      "\"enc_cross_attn_widening_factor\": 1\n",
      "\"enc_dropout\":                    0.05\n",
      "\"enc_num_blocks\":                 1\n",
      "\"enc_num_cross_attn_heads\":       4\n",
      "\"enc_num_self_attn_heads\":        4\n",
      "\"enc_num_self_attn_per_block\":    12\n",
      "\"enc_self_attention_dropout\":     0.05\n",
      "\"enc_self_attn_widening_factor\":  1\n",
      "\"input_transformer\":              IqTransformer()\n",
      "\"latent_dim\":                     1024\n",
      "\"lr\":                             0.00072\n",
      "\"model_dec_attn_dropout\":         0.45\n",
      "\"model_dec_dropout\":              0.45\n",
      "\"model_dec_num_heads\":            4\n",
      "\"model_dec_qk_out_dim\":           256\n",
      "\"model_dec_widening_factor\":      3\n",
      "\"n_bins\":                         256\n",
      "\"num_classes\":                    55\n",
      "\"num_latents\":                    48\n",
      "\"num_reg_outputs\":                219\n",
      "\"param_dec_attn_dropout\":         0.05\n",
      "\"param_dec_dropout\":              0.05\n",
      "\"param_dec_num_heads\":            2\n",
      "\"param_dec_qk_out_dim\":           256\n",
      "\"param_dec_widening_factor\":      1\n",
      "\"reg_obj\":                        mse\n",
      "\"reg_weight\":                     1.0\n",
      "\"seq_len\":                        511\n",
      "\"target_transformer\":             TargetTransformer()\n",
      "\"weight_decay\":                   1e-07 \n",
      "\n"
     ]
    }
   ],
   "source": [
    "device = \"cuda\" if torch.cuda.is_available() else \"cpu\"\n",
    "sasformer = SASPerceiverIOModel.load_from_checkpoint(checkpoint_path=checkpoint_path)#.to(device)\n",
    "sasformer.eval()\n",
    "print(sasformer.hparams, '\\n')"
   ]
  },
  {
   "cell_type": "markdown",
   "id": "58f5f9a4",
   "metadata": {},
   "source": [
    "#### Load data module"
   ]
  },
  {
   "cell_type": "code",
   "execution_count": 7,
   "id": "f548144f",
   "metadata": {},
   "outputs": [
    {
     "name": "stderr",
     "output_type": "stream",
     "text": [
      "/home/by256/anaconda3/envs/sasformer/lib/python3.9/site-packages/sklearn/preprocessing/_discretization.py:291: UserWarning: Bins whose width are too small (i.e., <= 1e-8) in feature 0 are removed. Consider decreasing the number of bins.\n",
      "  warnings.warn(\n"
     ]
    }
   ],
   "source": [
    "datamodule = SASDataModule(data_dir=data_dir,\n",
    "    n_bins=sasformer.hparams['n_bins'],\n",
    "    batch_size=1,\n",
    "    val_size=0.25,\n",
    "    seed=256\n",
    ")\n",
    "datamodule.setup()\n",
    "\n",
    "# mapping for clf predictions to scattering model\n",
    "with open(\"../data/label_to_model.pkl\", \"rb\") as f:\n",
    "    label_to_model = pickle.load(f)\n",
    "\n",
    "# mapping for reg predictions to model parameters\n",
    "with open(\"../data/model_to_param_idxs.pkl\", \"rb\") as f:\n",
    "    model_to_param_idxs = pickle.load(f)"
   ]
  },
  {
   "cell_type": "markdown",
   "id": "fe31a245",
   "metadata": {},
   "source": [
    "#### Predict scattering model and parameters"
   ]
  },
  {
   "cell_type": "code",
   "execution_count": 8,
   "id": "dd38ccfa",
   "metadata": {},
   "outputs": [
    {
     "name": "stdout",
     "output_type": "stream",
     "text": [
      "Predicted model: cylinder\n",
      "Predicted parameters: [519.67664, 35.122982]\n"
     ]
    }
   ],
   "source": [
    "# quotient transform\n",
    "Iq_qt = torch.LongTensor(datamodule.input_transformer.transform(Iq))\n",
    "\n",
    "# predict\n",
    "with torch.no_grad():\n",
    "    y_pred_clf, y_pred_reg = sasformer(Iq_qt)\n",
    "y_pred_reg = y_pred_reg.detach().cpu().numpy()\n",
    "\n",
    "# classification prediction\n",
    "pred_model = label_to_model[y_pred_clf.argmax().item()]\n",
    "print(f\"Predicted model: {pred_model}\")\n",
    "\n",
    "# regression predictions\n",
    "model_param_idxs = model_to_param_idxs[pred_model]\n",
    "pred_params = [datamodule.target_transformer.inverse_transform(y_pred_reg)[0][i] for i in model_param_idxs]\n",
    "print(f\"Predicted parameters: {pred_params}\")"
   ]
  },
  {
   "cell_type": "markdown",
   "id": "86d4e248",
   "metadata": {},
   "source": [
    "The predicted model matches the model we used to generate the data and the predicted parameters are roughly close."
   ]
  },
  {
   "cell_type": "code",
   "execution_count": null,
   "id": "533b8f88",
   "metadata": {},
   "outputs": [],
   "source": []
  }
 ],
 "metadata": {
  "kernelspec": {
   "display_name": "Python 3 (ipykernel)",
   "language": "python",
   "name": "python3"
  },
  "language_info": {
   "codemirror_mode": {
    "name": "ipython",
    "version": 3
   },
   "file_extension": ".py",
   "mimetype": "text/x-python",
   "name": "python",
   "nbconvert_exporter": "python",
   "pygments_lexer": "ipython3",
   "version": "3.9.18"
  }
 },
 "nbformat": 4,
 "nbformat_minor": 5
}
